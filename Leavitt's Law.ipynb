{
 "cells": [
  {
   "cell_type": "markdown",
   "metadata": {},
   "source": [
    "# Workshop 5: Leavitt's Law\n",
    "\n",
    "### Click on the grey boxes (cells) in this notebook and press shift-enter to run them.\n",
    "\n",
    "### You can only run this first cell once, but the later ones you can keep running as you get more data"
   ]
  },
  {
   "cell_type": "code",
   "execution_count": 1,
   "metadata": {
    "deletable": false,
    "editable": false
   },
   "outputs": [
    {
     "name": "stdout",
     "output_type": "stream",
     "text": [
      "Populating the interactive namespace from numpy and matplotlib\n"
     ]
    }
   ],
   "source": [
    "pylab inline"
   ]
  },
  {
   "cell_type": "markdown",
   "metadata": {
    "deletable": false,
    "editable": false
   },
   "source": [
    "### These absolute magnitude measurements have been measured from the brightness of the stars and their distances, which are all the same because they are all in the Large Magellanic Cloud\n",
    "\n",
    "### You cannot change this cell, but you do need to run it by highlighting it and pressing shift-enter."
   ]
  },
  {
   "cell_type": "code",
   "execution_count": 2,
   "metadata": {
    "deletable": false,
    "editable": false
   },
   "outputs": [],
   "source": [
    "magnitudes = {\n",
    "    'OGLE-LMC-CEP-3874': 14.782,\n",
    "    'OGLE-LMC-CEP-2694': 14.739,\n",
    "    'OGLE-LMC-CEP-4501': 14.171,\n",
    "    'OGLE-LMC-CEP-0871': 14.298,\n",
    "    'OGLE-LMC-CEP-1391': 13.796,\n",
    "    'OGLE-LMC-CEP-0648': 13.696,\n",
    "    'OGLE-LMC-CEP-3396': 13.178,\n",
    "    'OGLE-LMC-CEP-2944': 13.336,\n",
    "    'OGLE-LMC-CEP-3158': 12.678,\n",
    "    'OGLE-LMC-CEP-0328': 12.088,\n",
    "}"
   ]
  },
  {
   "cell_type": "markdown",
   "metadata": {
    "deletable": false,
    "editable": false
   },
   "source": [
    "### Once you have measured the periods from the light curve graphs, fill them in below, replacing the zeros for each period you have measured.\n",
    "\n",
    "### After adding new data, highlight the cell again and press shift-enter to save the new values."
   ]
  },
  {
   "cell_type": "code",
   "execution_count": 3,
   "metadata": {
    "deletable": false
   },
   "outputs": [],
   "source": [
    "periods = {\n",
    "    'OGLE-LMC-CEP-3874': 0.0   ,\n",
    "    'OGLE-LMC-CEP-2694': 0.0   ,\n",
    "    'OGLE-LMC-CEP-4501': 0.0   ,\n",
    "    'OGLE-LMC-CEP-0871': 0.0   ,\n",
    "    'OGLE-LMC-CEP-1391': 0.0   ,\n",
    "    'OGLE-LMC-CEP-0648': 0.0   ,\n",
    "    'OGLE-LMC-CEP-3396': 0.0   ,\n",
    "    'OGLE-LMC-CEP-2944': 0.0   ,\n",
    "    'OGLE-LMC-CEP-3158': 0.0   ,\n",
    "    'OGLE-LMC-CEP-0328': 0.0   ,\n",
    "}"
   ]
  },
  {
   "cell_type": "markdown",
   "metadata": {
    "deletable": false,
    "editable": false
   },
   "source": [
    "### The code below will plot the log(period) on the x-axis vs the magnitude (brightness) on the y-axis.\n",
    "\n",
    "### To start with the graph is empty because the values above are all zeros.  Add some values above, and run **both** cells and the plot will update."
   ]
  },
  {
   "cell_type": "code",
   "execution_count": 4,
   "metadata": {
    "deletable": false,
    "editable": false
   },
   "outputs": [
    {
     "data": {
      "text/plain": [
       "Text(0.5, 1.0, \"Leavitt's Law\")"
      ]
     },
     "execution_count": 4,
     "metadata": {},
     "output_type": "execute_result"
    },
    {
     "data": {
      "image/png": "[encoded data removed]",
      "text/plain": [
       "<Figure size 576x576 with 1 Axes>"
      ]
     },
     "metadata": {
      "needs_background": "light"
     },
     "output_type": "display_data"
    }
   ],
   "source": [
    "names = [name for name,value in periods.items() if value]\n",
    "M = np.array([magnitudes[name] for name in names])\n",
    "rcParams['font.size'] = 14\n",
    "rcParams['font.family'] = 'serif'\n",
    "P = np.array([periods[name] for name in names])\n",
    "logP = np.log10(P)\n",
    "figure(figsize=(8,8))\n",
    "plot(logP, M, 'kx', ms=10, mew=2)\n",
    "minorticks_on()\n",
    "tick_params(which='major', direction='in', size=10)\n",
    "tick_params(which='minor', direction='in', size=5)\n",
    "grid(which='both')\n",
    "# grid(which='minor', axis='x')\n",
    "xlabel(\"log10(Period / days)\")\n",
    "ylabel(\"Magnitude\")\n",
    "title(\"Leavitt's Law\")"
   ]
  }
 ],
 "metadata": {
  "kernelspec": {
   "display_name": "Python 3",
   "language": "python",
   "name": "python3"
  },
  "language_info": {
   "codemirror_mode": {
    "name": "ipython",
    "version": 3
   },
   "file_extension": ".py",
   "mimetype": "text/x-python",
   "name": "python",
   "nbconvert_exporter": "python",
   "pygments_lexer": "ipython3",
   "version": "3.7.3"
  }
 },
 "nbformat": 4,
 "nbformat_minor": 2
}
